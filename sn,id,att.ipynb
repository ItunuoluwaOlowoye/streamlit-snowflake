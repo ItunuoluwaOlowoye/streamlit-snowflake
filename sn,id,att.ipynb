{
 "cells": [
  {
   "cell_type": "code",
   "execution_count": 1,
   "metadata": {},
   "outputs": [],
   "source": [
    "import numpy as np\n",
    "import pandas as pd"
   ]
  },
  {
   "cell_type": "code",
   "execution_count": 2,
   "metadata": {},
   "outputs": [],
   "source": [
    "df = pd.read_csv(\"employee_data.csv\")"
   ]
  },
  {
   "cell_type": "code",
   "execution_count": 3,
   "metadata": {},
   "outputs": [],
   "source": [
    "df.fillna('',inplace=True)"
   ]
  },
  {
   "cell_type": "code",
   "execution_count": 4,
   "metadata": {},
   "outputs": [],
   "source": [
    "df.drop_duplicates('full_name',inplace=True, ignore_index=True)"
   ]
  },
  {
   "cell_type": "code",
   "execution_count": 5,
   "metadata": {},
   "outputs": [],
   "source": [
    "df.date_hired = pd.to_datetime(df.date_hired, utc=True)"
   ]
  },
  {
   "cell_type": "code",
   "execution_count": 6,
   "metadata": {},
   "outputs": [
    {
     "name": "stdout",
     "output_type": "stream",
     "text": [
      "0\n"
     ]
    }
   ],
   "source": [
    "df.sort_values(['date_hired','full_name'],inplace=True)\n",
    "df.reset_index(drop=True,inplace=True)\n",
    "df['SN'] = df.index + 1\n",
    "df['unique_id'] = 'BM-' + df['SN'].astype('str') + '-US'\n",
    "print(df.unique_id.duplicated().sum())"
   ]
  },
  {
   "cell_type": "code",
   "execution_count": 7,
   "metadata": {},
   "outputs": [
    {
     "data": {
      "text/plain": [
       "0"
      ]
     },
     "execution_count": 7,
     "metadata": {},
     "output_type": "execute_result"
    }
   ],
   "source": [
    "df.duplicated('full_name').sum()"
   ]
  },
  {
   "cell_type": "code",
   "execution_count": 8,
   "metadata": {},
   "outputs": [
    {
     "data": {
      "text/plain": [
       "0"
      ]
     },
     "execution_count": 8,
     "metadata": {},
     "output_type": "execute_result"
    }
   ],
   "source": [
    "df.duplicated('email_address').sum()"
   ]
  },
  {
   "cell_type": "code",
   "execution_count": 9,
   "metadata": {},
   "outputs": [
    {
     "data": {
      "text/plain": [
       "(995, 178)"
      ]
     },
     "execution_count": 9,
     "metadata": {},
     "output_type": "execute_result"
    }
   ],
   "source": [
    "df.shape"
   ]
  },
  {
   "cell_type": "code",
   "execution_count": 10,
   "metadata": {},
   "outputs": [
    {
     "data": {
      "text/plain": [
       "0"
      ]
     },
     "execution_count": 10,
     "metadata": {},
     "output_type": "execute_result"
    }
   ],
   "source": [
    "df.duplicated('unique_id').sum()"
   ]
  },
  {
   "cell_type": "code",
   "execution_count": 11,
   "metadata": {},
   "outputs": [
    {
     "data": {
      "text/plain": [
       "0"
      ]
     },
     "execution_count": 11,
     "metadata": {},
     "output_type": "execute_result"
    }
   ],
   "source": [
    "df.date_hired.isna().sum()"
   ]
  },
  {
   "cell_type": "code",
   "execution_count": 12,
   "metadata": {},
   "outputs": [],
   "source": [
    "df.sort_values(['date_hired','full_name'],inplace=True)"
   ]
  },
  {
   "cell_type": "code",
   "execution_count": 13,
   "metadata": {},
   "outputs": [
    {
     "data": {
      "text/plain": [
       "Index(['first_name', 'last_name', 'full_name', 'phone_number', 'email_address',\n",
       "       'SN', 'region', 'unique_id', 'date_hired', 'address',\n",
       "       ...\n",
       "       'checkin_location_10_Dec_23', '_17_Dec_23', 'comment17122023',\n",
       "       'checkin_location_17_Dec_23', '_24_Dec_23', 'comment24122023',\n",
       "       'checkin_location_24_Dec_23', '_31_Dec_23', 'comment31122023',\n",
       "       'checkin_location_31_Dec_23'],\n",
       "      dtype='object', length=178)"
      ]
     },
     "execution_count": 13,
     "metadata": {},
     "output_type": "execute_result"
    }
   ],
   "source": [
    "df.columns"
   ]
  },
  {
   "cell_type": "code",
   "execution_count": 14,
   "metadata": {},
   "outputs": [],
   "source": [
    "df.columns = df.columns.str.replace('checkin','input')"
   ]
  },
  {
   "cell_type": "code",
   "execution_count": 15,
   "metadata": {},
   "outputs": [
    {
     "data": {
      "text/plain": [
       "Index(['first_name', 'last_name', 'full_name', 'phone_number', 'email_address',\n",
       "       'SN', 'region', 'unique_id', 'date_hired', 'address',\n",
       "       ...\n",
       "       'input_location_10_Dec_23', '_17_Dec_23', 'comment17122023',\n",
       "       'input_location_17_Dec_23', '_24_Dec_23', 'comment24122023',\n",
       "       'input_location_24_Dec_23', '_31_Dec_23', 'comment31122023',\n",
       "       'input_location_31_Dec_23'],\n",
       "      dtype='object', length=178)"
      ]
     },
     "execution_count": 15,
     "metadata": {},
     "output_type": "execute_result"
    }
   ],
   "source": [
    "df.columns"
   ]
  },
  {
   "cell_type": "code",
   "execution_count": 16,
   "metadata": {},
   "outputs": [],
   "source": [
    "df.rename(lambda x: x.split('_')[0] + \"-\" + x.split('_')[1] + \"-\" + str(int(x.split('_')[2])-2).zfill(2) +\n",
    "          \"-\" + x.split('_')[3] + \"-\" + x.split('_')[4]\n",
    "          if any(k in x for k in ['input_location_']) else x, axis=1, inplace=True)"
   ]
  },
  {
   "cell_type": "code",
   "execution_count": 17,
   "metadata": {},
   "outputs": [],
   "source": [
    "df.rename(lambda x:  \"_\" + str(int(x.split('_')[1])-2).zfill(2) +\n",
    "          \"_\" + x.split('_')[2] + \"_\" + x.split('_')[3]\n",
    "          if any(k in x for k in ['_23']) else x, axis=1,inplace=True)"
   ]
  },
  {
   "cell_type": "code",
   "execution_count": 18,
   "metadata": {},
   "outputs": [],
   "source": [
    "df.rename(lambda x: x[:7] + str(int(x[7:9])-2).zfill(2) + x[9:]\n",
    "          if any(k in x for k in ['comment']) else x, axis=1,inplace=True)"
   ]
  },
  {
   "cell_type": "code",
   "execution_count": 19,
   "metadata": {},
   "outputs": [],
   "source": [
    "df.columns = df.columns.str.replace('-','_')"
   ]
  },
  {
   "cell_type": "code",
   "execution_count": 29,
   "metadata": {},
   "outputs": [],
   "source": [
    "df.columns = df.columns.str.replace('00_Apr','31_Mar')\n",
    "df.columns = df.columns.str.replace('00042023','31032023')\n",
    "df.columns = df.columns.str.replace('00_Jul','30_Jun')\n",
    "df.columns = df.columns.str.replace('00072023','30062023')\n",
    "df.columns = df.columns.str.replace('_1_Oct','29_Sep')\n",
    "df.columns = df.columns.str.replace('_1102023','29092023')"
   ]
  },
  {
   "cell_type": "code",
   "execution_count": 30,
   "metadata": {},
   "outputs": [
    {
     "data": {
      "text/plain": [
       "Index(['input_location_18_Aug_23', '_25_Aug_23', 'comment25082023',\n",
       "       'input_location_25_Aug_23', '_01_Sep_23', 'comment01092023',\n",
       "       'input_location_01_Sep_23', '_08_Sep_23', 'comment08092023',\n",
       "       'input_location_08_Sep_23', '_15_Sep_23', 'comment15092023',\n",
       "       'input_location_15_Sep_23', '_22_Sep_23', 'comment22092023',\n",
       "       'input_location_22_Sep_23', '_29_Sep_23', 'comment29092023',\n",
       "       'input_location_29_Sep_23', '_06_Oct_23', 'comment06102023',\n",
       "       'input_location_06_Oct_23', '_13_Oct_23', 'comment13102023',\n",
       "       'input_location_13_Oct_23', '_20_Oct_23', 'comment20102023',\n",
       "       'input_location_20_Oct_23', '_27_Oct_23', 'comment27102023',\n",
       "       'input_location_27_Oct_23', '_03_Nov_23', 'comment03112023',\n",
       "       'input_location_03_Nov_23', '_10_Nov_23', 'comment10112023',\n",
       "       'input_location_10_Nov_23', '_17_Nov_23', 'comment17112023',\n",
       "       'input_location_17_Nov_23', '_24_Nov_23', 'comment24112023',\n",
       "       'input_location_24_Nov_23', '_01_Dec_23', 'comment01122023',\n",
       "       'input_location_01_Dec_23', '_08_Dec_23', 'comment08122023',\n",
       "       'input_location_08_Dec_23', '_15_Dec_23', 'comment15122023',\n",
       "       'input_location_15_Dec_23', '_22_Dec_23', 'comment22122023',\n",
       "       'input_location_22_Dec_23', '_29_Dec_23', 'comment29122023',\n",
       "       'input_location_29_Dec_23'],\n",
       "      dtype='object')"
      ]
     },
     "execution_count": 30,
     "metadata": {},
     "output_type": "execute_result"
    }
   ],
   "source": [
    "df.columns[120:180]"
   ]
  },
  {
   "cell_type": "code",
   "execution_count": 39,
   "metadata": {},
   "outputs": [],
   "source": [
    "def recalc_att_ytd(dataframe, today): # select sundays on or before sundays\n",
    "    date_list_column = [] # create list to store dates from date columns\n",
    "    start_column = dataframe.columns.get_loc('_06_Jan_23') # select index of first date column\n",
    "    while int(start_column) < dataframe.shape[1]: # store date columns into the list\n",
    "        date_list_column.append(pd.to_datetime(dataframe.columns[start_column], format='_%d_%b_%y', utc=True))\n",
    "        start_column = int(start_column) + 3\n",
    "    for i in dataframe.index: # for every person in the table\n",
    "        date_hired = dataframe.loc[i,'date_hired'] # select date added\n",
    "        dates_available = [] # create list to store all dates in the table that are after when the user was added to the table and are on or before today\n",
    "        for date in date_list_column: # for every date present in the original table\n",
    "            if date >= date_hired and date <= pd.to_datetime(today, utc=True): # check if the date is on or after the user was added and on or before today\n",
    "                column_name = date.strftime('_%d_%b_%y')\n",
    "                dates_available.append(column_name) # store that date into a list\n",
    "        sundays_by_today = dataframe.loc[i,dates_available] # create dataframe with only those date columns\n",
    "        sundays_by_today.fillna('',inplace=True)\n",
    "        all_count = sundays_by_today.count() # count total days\n",
    "        try:\n",
    "            present_count = sundays_by_today.value_counts()['Present'] # count days present\n",
    "            dataframe.loc[i,'att_ytd'] = round((present_count/all_count*100),2) # recalculate att_ytd\n",
    "        except: dataframe.loc[i,'att_ytd'] = 0.00\n",
    "    return dataframe"
   ]
  },
  {
   "cell_type": "code",
   "execution_count": 34,
   "metadata": {},
   "outputs": [],
   "source": [
    "from datetime import date\n",
    "today = date.today()"
   ]
  },
  {
   "cell_type": "code",
   "execution_count": 37,
   "metadata": {},
   "outputs": [],
   "source": [
    "df.date_hired = pd.to_datetime(df.date_hired, utc=True)"
   ]
  },
  {
   "cell_type": "code",
   "execution_count": 40,
   "metadata": {},
   "outputs": [],
   "source": [
    "df = recalc_att_ytd(df,today)"
   ]
  },
  {
   "cell_type": "code",
   "execution_count": 41,
   "metadata": {},
   "outputs": [
    {
     "data": {
      "text/plain": [
       "50.00     111\n",
       "55.56      80\n",
       "44.44      65\n",
       "38.89      59\n",
       "61.11      56\n",
       "         ... \n",
       "100.00      1\n",
       "61.54       1\n",
       "26.67       1\n",
       "38.46       1\n",
       "18.18       1\n",
       "Name: att_ytd, Length: 77, dtype: int64"
      ]
     },
     "execution_count": 41,
     "metadata": {},
     "output_type": "execute_result"
    }
   ],
   "source": [
    "df.att_ytd.value_counts(dropna=False)"
   ]
  },
  {
   "cell_type": "code",
   "execution_count": 42,
   "metadata": {},
   "outputs": [
    {
     "data": {
      "text/plain": [
       "first_name                  object\n",
       "last_name                   object\n",
       "full_name                   object\n",
       "phone_number                 int64\n",
       "email_address               object\n",
       "                             ...  \n",
       "comment22122023             object\n",
       "input_location_22_Dec_23    object\n",
       "_29_Dec_23                  object\n",
       "comment29122023             object\n",
       "input_location_29_Dec_23    object\n",
       "Length: 178, dtype: object"
      ]
     },
     "execution_count": 42,
     "metadata": {},
     "output_type": "execute_result"
    }
   ],
   "source": [
    "df.dtypes"
   ]
  },
  {
   "cell_type": "code",
   "execution_count": 44,
   "metadata": {},
   "outputs": [],
   "source": [
    "df = df.replace('Absent','Incomplete')"
   ]
  },
  {
   "cell_type": "code",
   "execution_count": 45,
   "metadata": {},
   "outputs": [],
   "source": [
    "df = df.replace('Present','Completed')"
   ]
  },
  {
   "cell_type": "code",
   "execution_count": 46,
   "metadata": {},
   "outputs": [],
   "source": [
    "df.to_csv('employee_data.csv',index=False)"
   ]
  },
  {
   "cell_type": "code",
   "execution_count": null,
   "metadata": {},
   "outputs": [],
   "source": []
  }
 ],
 "metadata": {
  "kernelspec": {
   "display_name": "streamlit",
   "language": "python",
   "name": "python3"
  },
  "language_info": {
   "codemirror_mode": {
    "name": "ipython",
    "version": 3
   },
   "file_extension": ".py",
   "mimetype": "text/x-python",
   "name": "python",
   "nbconvert_exporter": "python",
   "pygments_lexer": "ipython3",
   "version": "3.9.15"
  },
  "orig_nbformat": 4
 },
 "nbformat": 4,
 "nbformat_minor": 2
}
