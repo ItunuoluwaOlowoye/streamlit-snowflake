{
 "cells": [
  {
   "cell_type": "code",
   "execution_count": 12,
   "metadata": {},
   "outputs": [],
   "source": [
    "import numpy as np\n",
    "import pandas as pd"
   ]
  },
  {
   "cell_type": "code",
   "execution_count": 13,
   "metadata": {},
   "outputs": [],
   "source": [
    "df = pd.read_csv(\"employee_data.csv\", low_memory=False)"
   ]
  },
  {
   "cell_type": "code",
   "execution_count": 14,
   "metadata": {},
   "outputs": [],
   "source": [
    "df.drop_duplicates('full_name',inplace=True, ignore_index=True)"
   ]
  },
  {
   "cell_type": "code",
   "execution_count": 15,
   "metadata": {},
   "outputs": [],
   "source": [
    "df.date_hired = pd.to_datetime(df.date_hired, utc=True).dt.strftime('%Y-%m-%d')"
   ]
  },
  {
   "cell_type": "code",
   "execution_count": 16,
   "metadata": {},
   "outputs": [],
   "source": [
    "df.date_hired = pd.to_datetime(df.date_hired)"
   ]
  },
  {
   "cell_type": "code",
   "execution_count": 17,
   "metadata": {},
   "outputs": [
    {
     "name": "stdout",
     "output_type": "stream",
     "text": [
      "0\n"
     ]
    }
   ],
   "source": [
    "df.sort_values(['date_hired','full_name'],inplace=True)\n",
    "df.reset_index(drop=True,inplace=True)\n",
    "df['SN'] = df.index + 1\n",
    "df['unique_id'] = 'TN-' + df['SN'].astype('str') + '-UD'\n",
    "print(df.unique_id.duplicated().sum())"
   ]
  },
  {
   "cell_type": "code",
   "execution_count": 18,
   "metadata": {},
   "outputs": [
    {
     "data": {
      "text/plain": [
       "0"
      ]
     },
     "execution_count": 18,
     "metadata": {},
     "output_type": "execute_result"
    }
   ],
   "source": [
    "df.duplicated('full_name').sum()"
   ]
  },
  {
   "cell_type": "code",
   "execution_count": 20,
   "metadata": {},
   "outputs": [
    {
     "data": {
      "text/plain": [
       "0"
      ]
     },
     "execution_count": 20,
     "metadata": {},
     "output_type": "execute_result"
    }
   ],
   "source": [
    "df.duplicated('email_address').sum()"
   ]
  },
  {
   "cell_type": "code",
   "execution_count": 21,
   "metadata": {},
   "outputs": [
    {
     "data": {
      "text/plain": [
       "(995, 178)"
      ]
     },
     "execution_count": 21,
     "metadata": {},
     "output_type": "execute_result"
    }
   ],
   "source": [
    "df.shape"
   ]
  },
  {
   "cell_type": "code",
   "execution_count": 22,
   "metadata": {},
   "outputs": [
    {
     "data": {
      "text/plain": [
       "0"
      ]
     },
     "execution_count": 22,
     "metadata": {},
     "output_type": "execute_result"
    }
   ],
   "source": [
    "df.duplicated('unique_id').sum()"
   ]
  },
  {
   "cell_type": "code",
   "execution_count": 24,
   "metadata": {},
   "outputs": [
    {
     "data": {
      "text/plain": [
       "0"
      ]
     },
     "execution_count": 24,
     "metadata": {},
     "output_type": "execute_result"
    }
   ],
   "source": [
    "df.date_hired.isna().sum()"
   ]
  },
  {
   "cell_type": "code",
   "execution_count": 26,
   "metadata": {},
   "outputs": [],
   "source": [
    "df.sort_values(['date_hired','full_name'],inplace=True)"
   ]
  },
  {
   "cell_type": "code",
   "execution_count": 31,
   "metadata": {},
   "outputs": [],
   "source": [
    "def recalc_att_ytd(dataframe, today): # select sundays on or before sundays\n",
    "    date_list_column = [] # create list to store dates from date columns\n",
    "    start_column = dataframe.columns.get_loc('_08_Jan_23') # select index of first date column\n",
    "    while int(start_column) < dataframe.shape[1]: # store date columns into the list\n",
    "        date_list_column.append(pd.to_datetime(dataframe.columns[start_column], format='_%d_%b_%y'))\n",
    "        start_column = int(start_column) + 3\n",
    "    for i in dataframe.index: # for every person in the table\n",
    "        date_hired = dataframe.loc[i,'date_hired'] # select date added\n",
    "        dates_available = [] # create list to store all dates in the table that are after when the user was added to the table and are on or before today\n",
    "        for date in date_list_column: # for every date present in the original table\n",
    "            if date >= date_hired and date <= pd.to_datetime(today): # check if the date is on or after the user was added and on or before today\n",
    "                column_name = date.strftime('_%d_%b_%y')\n",
    "                dates_available.append(column_name) # store that date into a list\n",
    "        sundays_by_today = dataframe.loc[i,dates_available] # create dataframe with only those date columns\n",
    "        sundays_by_today.fillna('',inplace=True)\n",
    "        all_count = sundays_by_today.count() # count total days\n",
    "        try:\n",
    "            present_count = sundays_by_today.value_counts()['Present'] # count days present\n",
    "            dataframe.loc[i,'att_ytd'] = round((present_count/all_count*100),2) # recalculate att_ytd\n",
    "        except: dataframe.loc[i,'att_ytd'] = 0.00\n",
    "    return dataframe"
   ]
  },
  {
   "cell_type": "code",
   "execution_count": 32,
   "metadata": {},
   "outputs": [],
   "source": [
    "from datetime import date\n",
    "today = date.today()"
   ]
  },
  {
   "cell_type": "code",
   "execution_count": 33,
   "metadata": {},
   "outputs": [],
   "source": [
    "df = recalc_att_ytd(df,today)"
   ]
  },
  {
   "cell_type": "code",
   "execution_count": 34,
   "metadata": {},
   "outputs": [
    {
     "data": {
      "text/plain": [
       "52.94    148\n",
       "41.18    125\n",
       "47.06    122\n",
       "58.82    106\n",
       "35.29     81\n",
       "        ... \n",
       "72.73      1\n",
       "18.18      1\n",
       "27.27      1\n",
       "58.33      1\n",
       "71.43      1\n",
       "Name: att_ytd, Length: 63, dtype: int64"
      ]
     },
     "execution_count": 34,
     "metadata": {},
     "output_type": "execute_result"
    }
   ],
   "source": [
    "df.att_ytd.value_counts(dropna=False)"
   ]
  },
  {
   "cell_type": "code",
   "execution_count": 35,
   "metadata": {},
   "outputs": [
    {
     "data": {
      "text/plain": [
       "first_name                     object\n",
       "last_name                      object\n",
       "full_name                      object\n",
       "phone_number                    int64\n",
       "email_address                  object\n",
       "                               ...   \n",
       "comment24122023               float64\n",
       "checkin_location_24_Dec_23    float64\n",
       "_31_Dec_23                    float64\n",
       "comment31122023               float64\n",
       "checkin_location_31_Dec_23    float64\n",
       "Length: 178, dtype: object"
      ]
     },
     "execution_count": 35,
     "metadata": {},
     "output_type": "execute_result"
    }
   ],
   "source": [
    "df.dtypes"
   ]
  },
  {
   "cell_type": "code",
   "execution_count": 37,
   "metadata": {},
   "outputs": [],
   "source": [
    "df.to_csv('employee_data.csv',index=False)"
   ]
  },
  {
   "cell_type": "code",
   "execution_count": null,
   "metadata": {},
   "outputs": [],
   "source": []
  }
 ],
 "metadata": {
  "kernelspec": {
   "display_name": "streamlit",
   "language": "python",
   "name": "python3"
  },
  "language_info": {
   "codemirror_mode": {
    "name": "ipython",
    "version": 3
   },
   "file_extension": ".py",
   "mimetype": "text/x-python",
   "name": "python",
   "nbconvert_exporter": "python",
   "pygments_lexer": "ipython3",
   "version": "3.9.15"
  },
  "orig_nbformat": 4
 },
 "nbformat": 4,
 "nbformat_minor": 2
}
